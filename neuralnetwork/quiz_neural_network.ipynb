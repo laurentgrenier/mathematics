{
 "cells": [
  {
   "cell_type": "markdown",
   "metadata": {},
   "source": [
    "# Quiz: neural network"
   ]
  },
  {
   "cell_type": "markdown",
   "metadata": {},
   "source": [
    "Here there are only two neurons (or nodes), and they are linked by a single edge.\n",
    "\n",
    "The activation of neurons in the final layer, (1), is determined by the activation of neurons in the previous layer, (0),\n",
    "\n",
    "$$ \\mathbf{a}^{(1)}=\\sigma(\\mathbf{w}^{(1)}.\\mathbf{a}^{(0)}) $$ \n",
    "\n",
    "where w^{(1)}w \n",
    "(1)\n",
    "  is the weight of the connection between Neuron (0) and Neuron (1), and b^{(1)}b \n",
    "(1)\n",
    " is the bias of the Neuron (1). These are then subject to the activation function, \\sigmaσ to give the activation of Neuron (1)\n",
    "\n",
    "Our small neural network won't be able to do a lot - it's far too simple. It is however worth plugging a few numbers into it to get a feel for the parts.\n",
    "\n",
    "Let's assume we want to train the network to give a NOT function, that is if you input 1 it returns 0, and if you input 0 it returns 1.\n",
    "\n",
    "For simplicity, let's use, σ(z)=tanh(z), for our activation function, and randomly initialise our weight and bias to w^{(1)}=1.3w \n",
    "(1)\n",
    " =1.3 and b^{(1)} = -0.1b \n",
    "(1)\n",
    " =−0.1.\n",
    "\n",
    "Use the code block below to see what output values the neural network initially returns for training data."
   ]
  },
  {
   "cell_type": "code",
   "execution_count": 16,
   "metadata": {},
   "outputs": [
    {
     "name": "stdout",
     "output_type": "stream",
     "text": [
      "[0 1 2 3 4]\n",
      "[0.999329299739067, 0.9999999958776927, 0.0, -0.9950547536867305, 0.9999092042625951]\n"
     ]
    }
   ],
   "source": [
    "# First we set the state of the network\n",
    "σ = np.tanh\n",
    "w = [3, 10, -5, -3, 0]\n",
    "b = [1, 0, 5, 0, 5]\n",
    "\n",
    "# Then we define the neuron activation.\n",
    "# def a1(a0) :\n",
    "#  return σ(w1 * a0 + b1)\n",
    "\n",
    "\n",
    "# Finally let's try the network out!\n",
    "# Replace x with 0 or 1 below,\n",
    "# a1(0)\n",
    "\n",
    "import numpy as np\n",
    "print(np.arange(0,5))\n",
    "\n",
    "def sigma(i):\n",
    "    return σ(w[i] * 1 + b[i])\n",
    "\n",
    "print(list(map(sigma, np.arange(0,5))))"
   ]
  },
  {
   "cell_type": "code",
   "execution_count": null,
   "metadata": {},
   "outputs": [],
   "source": []
  }
 ],
 "metadata": {
  "kernelspec": {
   "display_name": "Python 3",
   "language": "python",
   "name": "python3"
  },
  "language_info": {
   "codemirror_mode": {
    "name": "ipython",
    "version": 3
   },
   "file_extension": ".py",
   "mimetype": "text/x-python",
   "name": "python",
   "nbconvert_exporter": "python",
   "pygments_lexer": "ipython3",
   "version": "3.6.6"
  }
 },
 "nbformat": 4,
 "nbformat_minor": 2
}

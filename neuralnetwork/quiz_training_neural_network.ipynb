{
 "cells": [
  {
   "cell_type": "code",
   "execution_count": null,
   "metadata": {
    "collapsed": true,
    "pycharm": {
     "name": "#%%\n"
    }
   },
   "outputs": [],
   "source": []
  },
  {
   "cell_type": "markdown",
   "metadata": {},
   "source": [
    "# Training Neural Networks\n",
    "\n",
    "Using your answer to the previous question, let's see it implemented in code.\n",
    "\n",
    "The following code block has an example implementation of ∂Ck∂w(1). It is up to you to implement ∂Ck∂b(1).\n",
    "\n",
    "Don't worry if you don't know exactly how the code works. It's more important that you get a feel for what is going on.\n",
    "\n",
    "We will introduce the following derivative in the code,\n",
    "\n",
    "ddztanh(z)=1cosh2z.\n",
    "Complete the function 'dCdb' below. Replace the ??? towards the bottom, with the expression you calculated in the previous question.\n"
   ]
  },
  {
   "cell_type": "code",
   "execution_count": 1,
   "metadata": {
    "pycharm": {
     "is_executing": false,
     "name": "#%%\n"
    }
   },
   "outputs": [
    {
     "name": "stdout",
     "output_type": "stream",
     "text": [
      "-1.1186026425530913\n"
     ]
    }
   ],
   "source": [
    "\n",
    "import numpy as np\n",
    "\n",
    "# First define our sigma function.\n",
    "sigma = np.tanh\n",
    "\n",
    "# Next define the feed-forward equation.\n",
    "def a1 (w1, b1, a0) :\n",
    "  z = w1 * a0 + b1\n",
    "  return sigma(z)\n",
    "\n",
    "# The individual cost function is the square of the difference between\n",
    "# the network output and the training data output.\n",
    "def C (w1, b1, x, y) :\n",
    "  return (a1(w1, b1, x) - y)**2\n",
    "\n",
    "# This function returns the derivative of the cost function with\n",
    "# respect to the weight.\n",
    "def dCdw (w1, b1, x, y) :\n",
    "  z = w1 * x + b1\n",
    "  dCda = 2 * (a1(w1, b1, x) - y) # Derivative of cost with activation\n",
    "  dadz = 1/np.cosh(z)**2 # derivative of activation with weighted sum z\n",
    "  dzdw = x # derivative of weighted sum z with weight\n",
    "  return dCda * dadz * dzdw # Return the chain rule product.\n",
    "\n",
    "# This function returns the derivative of the cost function with\n",
    "# respect to the bias.\n",
    "# It is very similar to the previous function.\n",
    "# You should complete this function.\n",
    "def dCdb (w1, b1, x, y) :\n",
    "  z = w1 * x + b1\n",
    "  dCda = 2 * (a1(w1, b1, x) - y)\n",
    "  dadz = 1/np.cosh(z)**2\n",
    "  \"\"\" Change the next line to give the derivative of\n",
    "      the weighted sum, z, with respect to the bias, b. \"\"\"\n",
    "  dzdb = 1\n",
    "  return dCda * dadz * dzdb\n",
    "\n",
    "\"\"\"Test your code before submission:\"\"\"\n",
    "# Let's start with an unfit weight and bias.\n",
    "w1 = 2.3\n",
    "b1 = -1.2\n",
    "# We can test on a single data point pair of x and y.\n",
    "x = 0\n",
    "y = 1\n",
    "# Output how the cost would change\n",
    "# in proportion to a small change in the bias\n",
    "print( dCdb(w1, b1, x, y) )"
   ]
  },
  {
   "cell_type": "markdown",
   "metadata": {},
   "source": [
    "Recall that when we add more neurons to the network, our quantities are upgraded to vectors or matrices.\n",
    "\n",
    "\n",
    "a(1)=σ(z(1)),\n",
    "\n",
    "z(1)=W(1)a(0)+b(1)\n",
    "The individual cost functions remain scalars. Instead of becoming vectors, the components are summed over each output neuron.\n",
    "\n",
    "C_k = \\sum_i (a^{(1)}_i - y_i)^2C \n",
    "k\n",
    "​\t =∑ \n",
    "i\n",
    "​\t (a \n",
    "i\n",
    "(1)\n",
    "​\t −y \n",
    "i\n",
    "​\t ) \n",
    "2\n",
    " \n",
    "\n",
    "Note here that ii labels the output neuron and is summed over, whereas kk labels the training example.\n",
    "\n",
    "The training data becomes a vector too,\n",
    "\n",
    "x→x and has the same number of elements as input neurons.\n",
    "\n",
    "y→y and has the same number of elements as output neurons.\n",
    "\n",
    "This allows us to write the cost function in vector form using the modulus squared,\n",
    "\n",
    "Ck=|a(1)−y|2.\n",
    "\n",
    "Use the code block below to play with calculating the cost function for this network.\n",
    "\n"
   ]
  },
  {
   "cell_type": "code",
   "execution_count": 3,
   "metadata": {
    "pycharm": {
     "is_executing": false,
     "name": "#%%\n"
    }
   },
   "outputs": [],
   "source": [
    "# Define the activation function.\n",
    "sigma = np.tanh\n",
    "\n",
    "# Let's use a random initial weight and bias.\n",
    "W = np.array([[-0.94529712, -0.2667356 , -0.91219181],\n",
    "              [ 2.05529992,  1.21797092,  0.22914497]])\n",
    "b = np.array([ 0.61273249,  1.6422662 ])\n",
    "\n",
    "# define our feed forward function\n",
    "def a1 (a0) :\n",
    "  # Notice the next line is almost the same as previously,\n",
    "  # except we are using matrix multiplication rather than scalar multiplication\n",
    "  # hence the '@' operator, and not the '*' operator.\n",
    "  z = W @ a0 + b\n",
    "  # Everything else is the same though,\n",
    "  return sigma(z)\n",
    "\n",
    "# Next, if a training example is,\n",
    "x = np.array([0.7, 0.6, 0.2])\n",
    "y = np.array([0.9, 0.6])\n",
    "\n",
    "# Then the cost function is,\n",
    "d = a1(x) - y # Vector difference between observed and expected activation\n",
    "C = d @ d # Absolute value squared of the difference."
   ]
  },
  {
   "cell_type": "code",
   "execution_count": null,
   "metadata": {
    "pycharm": {
     "name": "#%%\n"
    }
   },
   "outputs": [],
   "source": [
    "\n"
   ]
  }
 ],
 "metadata": {
  "kernelspec": {
   "display_name": "Python 3",
   "language": "python",
   "name": "python3"
  },
  "language_info": {
   "codemirror_mode": {
    "name": "ipython",
    "version": 3
   },
   "file_extension": ".py",
   "mimetype": "text/x-python",
   "name": "python",
   "nbconvert_exporter": "python",
   "pygments_lexer": "ipython3",
   "version": "3.6.8"
  },
  "pycharm": {
   "stem_cell": {
    "cell_type": "raw",
    "metadata": {
     "collapsed": false
    },
    "source": []
   }
  }
 },
 "nbformat": 4,
 "nbformat_minor": 1
}

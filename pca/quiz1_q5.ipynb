{
 "cells": [
  {
   "cell_type": "markdown",
   "metadata": {
    "collapsed": true
   },
   "source": []
  },
  {
   "cell_type": "markdown",
   "metadata": {},
   "source": [
    "# Quiz 1: Question 5: New standard deviation in terms of the previous one\n",
    "\n",
    "Because I've struggled with that, I post my work on that question because that could help someone else. \n",
    "\n",
    "The purpose of that question is find an expression for standard deviation **sigma(n)** terms of the previous one **sigma(n-1)**. The application of that avoid you to calculate the standard deviation of a whole collection each time but calculate it from the previous one.\n",
    "\n",
    "First, let's make a point on the expressions of sigma and sigma(n-1)\n",
    "$$ \\sigma_{n}^2 = \\frac {1} {n} \\sum_{i=1}^n (x_{i} - \\bar{x_{n}})^2 $$\n",
    "$$ \\Leftrightarrow n\\sigma_{n}^2 = \\sum_{i=1}^n (x_{i} - \\bar{x_{n}})^2 $$\n",
    "$$ \\sigma_{n-1}^2 = \\frac {1} {n-1} \\sum_{i=1}^{n-1} (x_{i} - \\bar{x_{n-1}})^2 $$\n",
    "$$ \\Leftrightarrow (n-1)\\sigma_{n-1}^2 = \\sum_{i=1}^{n-1} (x_{i} - \\bar{x_{n-1}})^2 $$\n",
    "\n",
    "As we often do during mathematic demonstration, we try to calculate the difference between the two expressions in order to mix them.\n",
    "\n",
    "$$ n\\sigma_{n}^2 - (n-1)\\sigma_{n-1}^2 = \\sum_{i=1}^n (x_{i} - \\bar{x_{n}})^2 - \\sum_{i=1}^{n-1} (x_{i} - \\bar{x_{n-1}})^2 $$\n",
    "\n",
    "If we want to go further, we will need to have the same iterations for the two sums. Then, we extract the last value of the first sum. \n",
    "\n",
    "$$ n\\sigma_{n}^2 - (n-1)\\sigma_{n-1}^2 = \\sum_{i=1}^{n-1} (x_{i} - \\bar{x_{n}})^2 + (x_{n} - \\bar{x_{n}})^2 - \\sum_{i=1}^{n-1} (x_{i} - \\bar{x_{n-1}})^2 $$\n",
    "\n",
    "From there, we can group the sums together\n",
    "\n",
    "$$ n\\sigma_{n}^2 - (n-1)\\sigma_{n-1}^2 = \\sum_{i=1}^{n-1} ((x_{i} - \\bar{x_{n}})^2 - (x_{i} - \\bar{x_{n-1}})^2) + (x_{n} - \\bar{x_{n}})^2 $$\n",
    "\n",
    "Let's develop the expression of the sum\n",
    "$$ n\\sigma_{n}^2 - (n-1)\\sigma_{n-1}^2 = \\sum_{i=1}^{n-1} (x_{i}^2 - 2x_{i}\\bar{x_{n}} + \\bar{x_{n}}^2 - x_{i}^2 + 2x_{i}\\bar{x_{n-1}} - \\bar{x_{n-1}}^2) + (x_{n} - \\bar{x_{n}})^2 $$\n",
    "\n",
    "Math intuition hint:\n",
    "Personnaly, when I see an expression containing 2 squared values and some doubled ones I think about factorization. \n",
    "Here the experssion is like \n",
    "$$ -2cb + b^2 + 2ca + a^2 = (c-a+c-b)(a-b) $$ \n",
    "\n",
    "$$ n\\sigma_{n}^2 - (n-1)\\sigma_{n-1}^2 = \\sum_{i=1}^{n-1} (x_{i} - \\bar{x_{n}} + x_{i} - \\bar{x_{n-1}})(\\bar{x_{n-1}} - \\bar{x_{n}}) + (x_{n} - \\bar{x_{n}})^2 $$\n",
    "\n",
    "You have to know 2 things for the next step:\n",
    "$$ \\sum_{i=1}^{n-1} (x_{i} - \\bar{x_{n-1}}) = 0 $$\n",
    "$$ \\sum_{i=1}^{n-1} (x_{i} - \\bar{x_{n}}) = (\\bar{x_{n}} - x_{n}) $$\n",
    "\n",
    "Applying those tricks produce the following expression:\n",
    "$$ n\\sigma_{n}^2 - (n-1)\\sigma_{n-1}^2 = (\\bar{x_{n}} - x_{n})(\\bar{x_{n-1}} - \\bar{x_{n}})  + (x_{n} - \\bar{x_{n}})^2 $$\n",
    "\n",
    "From that expression, we can figure out that two terms have approximately the same expression but inversed. We use the simple rule \"a + b = a - (-b)\" in order to have the same expression:\n",
    "$$ (\\bar{x_{n}} - x_{n}) $$ \n",
    "\n",
    "$$ n\\sigma_{n}^2 - (n-1)\\sigma_{n-1}^2 = (\\bar{x_{n}} - x_{n})(\\bar{x_{n-1}} - \\bar{x_{n}})  + (\\bar{x_{n}} - x_{n})(x_{n} - \\bar{x_{n}}) $$\n",
    "$$ \\Leftrightarrow n\\sigma_{n}^2 - (n-1)\\sigma_{n-1}^2 = (\\bar{x_{n}} - x_{n})(\\bar{x_{n-1}} - \\bar{x_{n}} - x_{n} + \\bar{x_{n}}) $$\n",
    "$$ \\Leftrightarrow n\\sigma_{n}^2 - (n-1)\\sigma_{n-1}^2 = (\\bar{x_{n}} - x_{n})(\\bar{x_{n-1}} - x_{n}) $$\n",
    "\n",
    "Here we almost are! Remember that we want the expression of **sigma(n)** in terms of **sigma(n-1)**. Let's equilibrate the equation in order to have only **sigma(n)** on the left side of the equality sign.\n",
    "\n",
    "$$ n\\sigma_{n}^2 = (n-1)\\sigma_{n-1}^2 + (\\bar{x_{n}} - x_{n})(\\bar{x_{n-1}} - x_{n}) $$\n",
    "$$ \\Leftrightarrow \\sigma_{n}^2 = \\frac{n-1}{n} \\sigma_{n-1}^2 + \\frac{1}{n}(\\bar{x_{n}} - x_{n})(\\bar{x_{n-1}} - x_{n}) $$\n",
    "\n",
    "Or because xn is named x*:\n",
    "$$ \\sigma_{n}^2 = \\frac{n-1}{n} \\sigma_{n-1}^2 + \\frac{1}{n}(\\bar{x_{n}} - x_{*})(\\bar{x_{n-1}} - x_{*}) $$\n",
    "\n",
    "That's it ! \n",
    "\n"
   ]
  },
  {
   "cell_type": "code",
   "execution_count": null,
   "metadata": {},
   "outputs": [],
   "source": []
  }
 ],
 "metadata": {
  "kernelspec": {
   "display_name": "Python 3",
   "language": "python",
   "name": "python3"
  },
  "language_info": {
   "codemirror_mode": {
    "name": "ipython",
    "version": 3
   },
   "file_extension": ".py",
   "mimetype": "text/x-python",
   "name": "python",
   "nbconvert_exporter": "python",
   "pygments_lexer": "ipython3",
   "version": "3.6.8"
  }
 },
 "nbformat": 4,
 "nbformat_minor": 1
}

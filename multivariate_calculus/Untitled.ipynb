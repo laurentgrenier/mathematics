{
 "cells": [
  {
   "cell_type": "markdown",
   "metadata": {},
   "source": [
    "# Optimisation : gradient descent"
   ]
  },
  {
   "cell_type": "markdown",
   "metadata": {},
   "source": [
    "In this notebook, we will have a look on the function \n",
    "$$ f(x,y) = x^2y $$"
   ]
  },
  {
   "cell_type": "code",
   "execution_count": null,
   "metadata": {},
   "outputs": [],
   "source": [
    "f = lambda x: x**3 - 2*x + 2\n",
    "d_f = lambda x: 3*x**2 - 2\n",
    "\n",
    "nr_table = newton_raphson(-2, f, d_f)\n",
    "\n",
    "print(nr_table)\n",
    "\n",
    "%run lib/drawing.py\n",
    "import numpy as np\n",
    "X = np.arange(-8, 8, 0.1)\n",
    "Y = f(X)\n",
    "draw = Drawing(1, 1, xlim=(-8, 8), ylim=(-100, 100))\n",
    "plt.plot([nr_table['x'][5], 0], [nr_table['f(x)'][5], 10])\n",
    "draw.plot(X, Y, 'f(x)', color='violet')\n",
    "draw.show()\n"
   ]
  }
 ],
 "metadata": {
  "kernelspec": {
   "display_name": "Python 3",
   "language": "python",
   "name": "python3"
  },
  "language_info": {
   "codemirror_mode": {
    "name": "ipython",
    "version": 3
   },
   "file_extension": ".py",
   "mimetype": "text/x-python",
   "name": "python",
   "nbconvert_exporter": "python",
   "pygments_lexer": "ipython3",
   "version": "3.6.8"
  }
 },
 "nbformat": 4,
 "nbformat_minor": 2
}
